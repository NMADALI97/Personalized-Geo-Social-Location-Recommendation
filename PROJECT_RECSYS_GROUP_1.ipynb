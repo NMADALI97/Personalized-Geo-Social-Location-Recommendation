{
  "nbformat": 4,
  "nbformat_minor": 0,
  "metadata": {
    "colab": {
      "name": "PROJECT_RECSYS_GROUP 1.ipynb",
      "provenance": [],
      "collapsed_sections": []
    },
    "kernelspec": {
      "name": "python3",
      "display_name": "Python 3"
    },
    "accelerator": "GPU",
    "widgets": {
      "application/vnd.jupyter.widget-state+json": {
        "3630cd8186124839b3a078c7459f3647": {
          "model_module": "@jupyter-widgets/controls",
          "model_name": "HBoxModel",
          "state": {
            "_view_name": "HBoxView",
            "_dom_classes": [],
            "_model_name": "HBoxModel",
            "_view_module": "@jupyter-widgets/controls",
            "_model_module_version": "1.5.0",
            "_view_count": null,
            "_view_module_version": "1.5.0",
            "box_style": "",
            "layout": "IPY_MODEL_4f6268c7f7094ae48e7f44991223a06f",
            "_model_module": "@jupyter-widgets/controls",
            "children": [
              "IPY_MODEL_0ab36a1479a04ca8a22abdb5965e5272",
              "IPY_MODEL_4c5a1410cd4f439b9b518eb9c5023ec7"
            ]
          }
        },
        "4f6268c7f7094ae48e7f44991223a06f": {
          "model_module": "@jupyter-widgets/base",
          "model_name": "LayoutModel",
          "state": {
            "_view_name": "LayoutView",
            "grid_template_rows": null,
            "right": null,
            "justify_content": null,
            "_view_module": "@jupyter-widgets/base",
            "overflow": null,
            "_model_module_version": "1.2.0",
            "_view_count": null,
            "flex_flow": null,
            "width": null,
            "min_width": null,
            "border": null,
            "align_items": null,
            "bottom": null,
            "_model_module": "@jupyter-widgets/base",
            "top": null,
            "grid_column": null,
            "overflow_y": null,
            "overflow_x": null,
            "grid_auto_flow": null,
            "grid_area": null,
            "grid_template_columns": null,
            "flex": null,
            "_model_name": "LayoutModel",
            "justify_items": null,
            "grid_row": null,
            "max_height": null,
            "align_content": null,
            "visibility": null,
            "align_self": null,
            "height": null,
            "min_height": null,
            "padding": null,
            "grid_auto_rows": null,
            "grid_gap": null,
            "max_width": null,
            "order": null,
            "_view_module_version": "1.2.0",
            "grid_template_areas": null,
            "object_position": null,
            "object_fit": null,
            "grid_auto_columns": null,
            "margin": null,
            "display": null,
            "left": null
          }
        },
        "0ab36a1479a04ca8a22abdb5965e5272": {
          "model_module": "@jupyter-widgets/controls",
          "model_name": "IntProgressModel",
          "state": {
            "_view_name": "ProgressView",
            "style": "IPY_MODEL_36d8597d6cd042418f9948131cc2200f",
            "_dom_classes": [],
            "description": "100%",
            "_model_name": "IntProgressModel",
            "bar_style": "success",
            "max": 18738,
            "_view_module": "@jupyter-widgets/controls",
            "_model_module_version": "1.5.0",
            "value": 18738,
            "_view_count": null,
            "_view_module_version": "1.5.0",
            "orientation": "horizontal",
            "min": 0,
            "description_tooltip": null,
            "_model_module": "@jupyter-widgets/controls",
            "layout": "IPY_MODEL_71a1f0a300fd4a878a055cc51c661b93"
          }
        },
        "4c5a1410cd4f439b9b518eb9c5023ec7": {
          "model_module": "@jupyter-widgets/controls",
          "model_name": "HTMLModel",
          "state": {
            "_view_name": "HTMLView",
            "style": "IPY_MODEL_381e0d496c0b4162a765fd7fad6291d5",
            "_dom_classes": [],
            "description": "",
            "_model_name": "HTMLModel",
            "placeholder": "​",
            "_view_module": "@jupyter-widgets/controls",
            "_model_module_version": "1.5.0",
            "value": " 18738/18738 [05:40&lt;00:00, 55.06it/s]",
            "_view_count": null,
            "_view_module_version": "1.5.0",
            "description_tooltip": null,
            "_model_module": "@jupyter-widgets/controls",
            "layout": "IPY_MODEL_b5ebed23dda541e58d497c416f418c1b"
          }
        },
        "36d8597d6cd042418f9948131cc2200f": {
          "model_module": "@jupyter-widgets/controls",
          "model_name": "ProgressStyleModel",
          "state": {
            "_view_name": "StyleView",
            "_model_name": "ProgressStyleModel",
            "description_width": "initial",
            "_view_module": "@jupyter-widgets/base",
            "_model_module_version": "1.5.0",
            "_view_count": null,
            "_view_module_version": "1.2.0",
            "bar_color": null,
            "_model_module": "@jupyter-widgets/controls"
          }
        },
        "71a1f0a300fd4a878a055cc51c661b93": {
          "model_module": "@jupyter-widgets/base",
          "model_name": "LayoutModel",
          "state": {
            "_view_name": "LayoutView",
            "grid_template_rows": null,
            "right": null,
            "justify_content": null,
            "_view_module": "@jupyter-widgets/base",
            "overflow": null,
            "_model_module_version": "1.2.0",
            "_view_count": null,
            "flex_flow": null,
            "width": null,
            "min_width": null,
            "border": null,
            "align_items": null,
            "bottom": null,
            "_model_module": "@jupyter-widgets/base",
            "top": null,
            "grid_column": null,
            "overflow_y": null,
            "overflow_x": null,
            "grid_auto_flow": null,
            "grid_area": null,
            "grid_template_columns": null,
            "flex": null,
            "_model_name": "LayoutModel",
            "justify_items": null,
            "grid_row": null,
            "max_height": null,
            "align_content": null,
            "visibility": null,
            "align_self": null,
            "height": null,
            "min_height": null,
            "padding": null,
            "grid_auto_rows": null,
            "grid_gap": null,
            "max_width": null,
            "order": null,
            "_view_module_version": "1.2.0",
            "grid_template_areas": null,
            "object_position": null,
            "object_fit": null,
            "grid_auto_columns": null,
            "margin": null,
            "display": null,
            "left": null
          }
        },
        "381e0d496c0b4162a765fd7fad6291d5": {
          "model_module": "@jupyter-widgets/controls",
          "model_name": "DescriptionStyleModel",
          "state": {
            "_view_name": "StyleView",
            "_model_name": "DescriptionStyleModel",
            "description_width": "",
            "_view_module": "@jupyter-widgets/base",
            "_model_module_version": "1.5.0",
            "_view_count": null,
            "_view_module_version": "1.2.0",
            "_model_module": "@jupyter-widgets/controls"
          }
        },
        "b5ebed23dda541e58d497c416f418c1b": {
          "model_module": "@jupyter-widgets/base",
          "model_name": "LayoutModel",
          "state": {
            "_view_name": "LayoutView",
            "grid_template_rows": null,
            "right": null,
            "justify_content": null,
            "_view_module": "@jupyter-widgets/base",
            "overflow": null,
            "_model_module_version": "1.2.0",
            "_view_count": null,
            "flex_flow": null,
            "width": null,
            "min_width": null,
            "border": null,
            "align_items": null,
            "bottom": null,
            "_model_module": "@jupyter-widgets/base",
            "top": null,
            "grid_column": null,
            "overflow_y": null,
            "overflow_x": null,
            "grid_auto_flow": null,
            "grid_area": null,
            "grid_template_columns": null,
            "flex": null,
            "_model_name": "LayoutModel",
            "justify_items": null,
            "grid_row": null,
            "max_height": null,
            "align_content": null,
            "visibility": null,
            "align_self": null,
            "height": null,
            "min_height": null,
            "padding": null,
            "grid_auto_rows": null,
            "grid_gap": null,
            "max_width": null,
            "order": null,
            "_view_module_version": "1.2.0",
            "grid_template_areas": null,
            "object_position": null,
            "object_fit": null,
            "grid_auto_columns": null,
            "margin": null,
            "display": null,
            "left": null
          }
        },
        "53812f8ada7e41ccb75f2dc3d55e9dde": {
          "model_module": "@jupyter-widgets/controls",
          "model_name": "HBoxModel",
          "state": {
            "_view_name": "HBoxView",
            "_dom_classes": [],
            "_model_name": "HBoxModel",
            "_view_module": "@jupyter-widgets/controls",
            "_model_module_version": "1.5.0",
            "_view_count": null,
            "_view_module_version": "1.5.0",
            "box_style": "",
            "layout": "IPY_MODEL_85c066a44495404fb122ca269160c7e2",
            "_model_module": "@jupyter-widgets/controls",
            "children": [
              "IPY_MODEL_9a624fda67724920b4cbc91ba1210cd9",
              "IPY_MODEL_9ce791769b4249b483f7fcd17034ffa7"
            ]
          }
        },
        "85c066a44495404fb122ca269160c7e2": {
          "model_module": "@jupyter-widgets/base",
          "model_name": "LayoutModel",
          "state": {
            "_view_name": "LayoutView",
            "grid_template_rows": null,
            "right": null,
            "justify_content": null,
            "_view_module": "@jupyter-widgets/base",
            "overflow": null,
            "_model_module_version": "1.2.0",
            "_view_count": null,
            "flex_flow": null,
            "width": null,
            "min_width": null,
            "border": null,
            "align_items": null,
            "bottom": null,
            "_model_module": "@jupyter-widgets/base",
            "top": null,
            "grid_column": null,
            "overflow_y": null,
            "overflow_x": null,
            "grid_auto_flow": null,
            "grid_area": null,
            "grid_template_columns": null,
            "flex": null,
            "_model_name": "LayoutModel",
            "justify_items": null,
            "grid_row": null,
            "max_height": null,
            "align_content": null,
            "visibility": null,
            "align_self": null,
            "height": null,
            "min_height": null,
            "padding": null,
            "grid_auto_rows": null,
            "grid_gap": null,
            "max_width": null,
            "order": null,
            "_view_module_version": "1.2.0",
            "grid_template_areas": null,
            "object_position": null,
            "object_fit": null,
            "grid_auto_columns": null,
            "margin": null,
            "display": null,
            "left": null
          }
        },
        "9a624fda67724920b4cbc91ba1210cd9": {
          "model_module": "@jupyter-widgets/controls",
          "model_name": "IntProgressModel",
          "state": {
            "_view_name": "ProgressView",
            "style": "IPY_MODEL_7e14bfe366484c82801cec0aa44c7d15",
            "_dom_classes": [],
            "description": "100%",
            "_model_name": "IntProgressModel",
            "bar_style": "success",
            "max": 18738,
            "_view_module": "@jupyter-widgets/controls",
            "_model_module_version": "1.5.0",
            "value": 18738,
            "_view_count": null,
            "_view_module_version": "1.5.0",
            "orientation": "horizontal",
            "min": 0,
            "description_tooltip": null,
            "_model_module": "@jupyter-widgets/controls",
            "layout": "IPY_MODEL_12b29d68d1754b3a924fedfdc92bfcf0"
          }
        },
        "9ce791769b4249b483f7fcd17034ffa7": {
          "model_module": "@jupyter-widgets/controls",
          "model_name": "HTMLModel",
          "state": {
            "_view_name": "HTMLView",
            "style": "IPY_MODEL_1dc8f2bc895645e2903abdc275b77228",
            "_dom_classes": [],
            "description": "",
            "_model_name": "HTMLModel",
            "placeholder": "​",
            "_view_module": "@jupyter-widgets/controls",
            "_model_module_version": "1.5.0",
            "value": " 18738/18738 [01:33&lt;00:00, 200.25it/s]",
            "_view_count": null,
            "_view_module_version": "1.5.0",
            "description_tooltip": null,
            "_model_module": "@jupyter-widgets/controls",
            "layout": "IPY_MODEL_4367ed6b2e0446a5babab5f839dac730"
          }
        },
        "7e14bfe366484c82801cec0aa44c7d15": {
          "model_module": "@jupyter-widgets/controls",
          "model_name": "ProgressStyleModel",
          "state": {
            "_view_name": "StyleView",
            "_model_name": "ProgressStyleModel",
            "description_width": "initial",
            "_view_module": "@jupyter-widgets/base",
            "_model_module_version": "1.5.0",
            "_view_count": null,
            "_view_module_version": "1.2.0",
            "bar_color": null,
            "_model_module": "@jupyter-widgets/controls"
          }
        },
        "12b29d68d1754b3a924fedfdc92bfcf0": {
          "model_module": "@jupyter-widgets/base",
          "model_name": "LayoutModel",
          "state": {
            "_view_name": "LayoutView",
            "grid_template_rows": null,
            "right": null,
            "justify_content": null,
            "_view_module": "@jupyter-widgets/base",
            "overflow": null,
            "_model_module_version": "1.2.0",
            "_view_count": null,
            "flex_flow": null,
            "width": null,
            "min_width": null,
            "border": null,
            "align_items": null,
            "bottom": null,
            "_model_module": "@jupyter-widgets/base",
            "top": null,
            "grid_column": null,
            "overflow_y": null,
            "overflow_x": null,
            "grid_auto_flow": null,
            "grid_area": null,
            "grid_template_columns": null,
            "flex": null,
            "_model_name": "LayoutModel",
            "justify_items": null,
            "grid_row": null,
            "max_height": null,
            "align_content": null,
            "visibility": null,
            "align_self": null,
            "height": null,
            "min_height": null,
            "padding": null,
            "grid_auto_rows": null,
            "grid_gap": null,
            "max_width": null,
            "order": null,
            "_view_module_version": "1.2.0",
            "grid_template_areas": null,
            "object_position": null,
            "object_fit": null,
            "grid_auto_columns": null,
            "margin": null,
            "display": null,
            "left": null
          }
        },
        "1dc8f2bc895645e2903abdc275b77228": {
          "model_module": "@jupyter-widgets/controls",
          "model_name": "DescriptionStyleModel",
          "state": {
            "_view_name": "StyleView",
            "_model_name": "DescriptionStyleModel",
            "description_width": "",
            "_view_module": "@jupyter-widgets/base",
            "_model_module_version": "1.5.0",
            "_view_count": null,
            "_view_module_version": "1.2.0",
            "_model_module": "@jupyter-widgets/controls"
          }
        },
        "4367ed6b2e0446a5babab5f839dac730": {
          "model_module": "@jupyter-widgets/base",
          "model_name": "LayoutModel",
          "state": {
            "_view_name": "LayoutView",
            "grid_template_rows": null,
            "right": null,
            "justify_content": null,
            "_view_module": "@jupyter-widgets/base",
            "overflow": null,
            "_model_module_version": "1.2.0",
            "_view_count": null,
            "flex_flow": null,
            "width": null,
            "min_width": null,
            "border": null,
            "align_items": null,
            "bottom": null,
            "_model_module": "@jupyter-widgets/base",
            "top": null,
            "grid_column": null,
            "overflow_y": null,
            "overflow_x": null,
            "grid_auto_flow": null,
            "grid_area": null,
            "grid_template_columns": null,
            "flex": null,
            "_model_name": "LayoutModel",
            "justify_items": null,
            "grid_row": null,
            "max_height": null,
            "align_content": null,
            "visibility": null,
            "align_self": null,
            "height": null,
            "min_height": null,
            "padding": null,
            "grid_auto_rows": null,
            "grid_gap": null,
            "max_width": null,
            "order": null,
            "_view_module_version": "1.2.0",
            "grid_template_areas": null,
            "object_position": null,
            "object_fit": null,
            "grid_auto_columns": null,
            "margin": null,
            "display": null,
            "left": null
          }
        },
        "8b92f1a0ef864c90bb1be53effae4f05": {
          "model_module": "@jupyter-widgets/controls",
          "model_name": "HBoxModel",
          "state": {
            "_view_name": "HBoxView",
            "_dom_classes": [],
            "_model_name": "HBoxModel",
            "_view_module": "@jupyter-widgets/controls",
            "_model_module_version": "1.5.0",
            "_view_count": null,
            "_view_module_version": "1.5.0",
            "box_style": "",
            "layout": "IPY_MODEL_66f67e3368394806ae9548eedc421e16",
            "_model_module": "@jupyter-widgets/controls",
            "children": [
              "IPY_MODEL_c8a07945c11a4035aac88fbe0c9efde0",
              "IPY_MODEL_a7813783e6bc467399418827e3d51ab6"
            ]
          }
        },
        "66f67e3368394806ae9548eedc421e16": {
          "model_module": "@jupyter-widgets/base",
          "model_name": "LayoutModel",
          "state": {
            "_view_name": "LayoutView",
            "grid_template_rows": null,
            "right": null,
            "justify_content": null,
            "_view_module": "@jupyter-widgets/base",
            "overflow": null,
            "_model_module_version": "1.2.0",
            "_view_count": null,
            "flex_flow": null,
            "width": null,
            "min_width": null,
            "border": null,
            "align_items": null,
            "bottom": null,
            "_model_module": "@jupyter-widgets/base",
            "top": null,
            "grid_column": null,
            "overflow_y": null,
            "overflow_x": null,
            "grid_auto_flow": null,
            "grid_area": null,
            "grid_template_columns": null,
            "flex": null,
            "_model_name": "LayoutModel",
            "justify_items": null,
            "grid_row": null,
            "max_height": null,
            "align_content": null,
            "visibility": null,
            "align_self": null,
            "height": null,
            "min_height": null,
            "padding": null,
            "grid_auto_rows": null,
            "grid_gap": null,
            "max_width": null,
            "order": null,
            "_view_module_version": "1.2.0",
            "grid_template_areas": null,
            "object_position": null,
            "object_fit": null,
            "grid_auto_columns": null,
            "margin": null,
            "display": null,
            "left": null
          }
        },
        "c8a07945c11a4035aac88fbe0c9efde0": {
          "model_module": "@jupyter-widgets/controls",
          "model_name": "IntProgressModel",
          "state": {
            "_view_name": "ProgressView",
            "style": "IPY_MODEL_a7db91756ade44ea9226fa5110eb1034",
            "_dom_classes": [],
            "description": "100%",
            "_model_name": "IntProgressModel",
            "bar_style": "success",
            "max": 173970,
            "_view_module": "@jupyter-widgets/controls",
            "_model_module_version": "1.5.0",
            "value": 173970,
            "_view_count": null,
            "_view_module_version": "1.5.0",
            "orientation": "horizontal",
            "min": 0,
            "description_tooltip": null,
            "_model_module": "@jupyter-widgets/controls",
            "layout": "IPY_MODEL_10843cf61efe4ccfa813088d502c0058"
          }
        },
        "a7813783e6bc467399418827e3d51ab6": {
          "model_module": "@jupyter-widgets/controls",
          "model_name": "HTMLModel",
          "state": {
            "_view_name": "HTMLView",
            "style": "IPY_MODEL_431745b2dd584a7c9eae4071bdd1f563",
            "_dom_classes": [],
            "description": "",
            "_model_name": "HTMLModel",
            "placeholder": "​",
            "_view_module": "@jupyter-widgets/controls",
            "_model_module_version": "1.5.0",
            "value": " 173970/173970 [10:13&lt;00:00, 283.64it/s]",
            "_view_count": null,
            "_view_module_version": "1.5.0",
            "description_tooltip": null,
            "_model_module": "@jupyter-widgets/controls",
            "layout": "IPY_MODEL_5a8be2adf9754d448991f784e74cf5c3"
          }
        },
        "a7db91756ade44ea9226fa5110eb1034": {
          "model_module": "@jupyter-widgets/controls",
          "model_name": "ProgressStyleModel",
          "state": {
            "_view_name": "StyleView",
            "_model_name": "ProgressStyleModel",
            "description_width": "initial",
            "_view_module": "@jupyter-widgets/base",
            "_model_module_version": "1.5.0",
            "_view_count": null,
            "_view_module_version": "1.2.0",
            "bar_color": null,
            "_model_module": "@jupyter-widgets/controls"
          }
        },
        "10843cf61efe4ccfa813088d502c0058": {
          "model_module": "@jupyter-widgets/base",
          "model_name": "LayoutModel",
          "state": {
            "_view_name": "LayoutView",
            "grid_template_rows": null,
            "right": null,
            "justify_content": null,
            "_view_module": "@jupyter-widgets/base",
            "overflow": null,
            "_model_module_version": "1.2.0",
            "_view_count": null,
            "flex_flow": null,
            "width": null,
            "min_width": null,
            "border": null,
            "align_items": null,
            "bottom": null,
            "_model_module": "@jupyter-widgets/base",
            "top": null,
            "grid_column": null,
            "overflow_y": null,
            "overflow_x": null,
            "grid_auto_flow": null,
            "grid_area": null,
            "grid_template_columns": null,
            "flex": null,
            "_model_name": "LayoutModel",
            "justify_items": null,
            "grid_row": null,
            "max_height": null,
            "align_content": null,
            "visibility": null,
            "align_self": null,
            "height": null,
            "min_height": null,
            "padding": null,
            "grid_auto_rows": null,
            "grid_gap": null,
            "max_width": null,
            "order": null,
            "_view_module_version": "1.2.0",
            "grid_template_areas": null,
            "object_position": null,
            "object_fit": null,
            "grid_auto_columns": null,
            "margin": null,
            "display": null,
            "left": null
          }
        },
        "431745b2dd584a7c9eae4071bdd1f563": {
          "model_module": "@jupyter-widgets/controls",
          "model_name": "DescriptionStyleModel",
          "state": {
            "_view_name": "StyleView",
            "_model_name": "DescriptionStyleModel",
            "description_width": "",
            "_view_module": "@jupyter-widgets/base",
            "_model_module_version": "1.5.0",
            "_view_count": null,
            "_view_module_version": "1.2.0",
            "_model_module": "@jupyter-widgets/controls"
          }
        },
        "5a8be2adf9754d448991f784e74cf5c3": {
          "model_module": "@jupyter-widgets/base",
          "model_name": "LayoutModel",
          "state": {
            "_view_name": "LayoutView",
            "grid_template_rows": null,
            "right": null,
            "justify_content": null,
            "_view_module": "@jupyter-widgets/base",
            "overflow": null,
            "_model_module_version": "1.2.0",
            "_view_count": null,
            "flex_flow": null,
            "width": null,
            "min_width": null,
            "border": null,
            "align_items": null,
            "bottom": null,
            "_model_module": "@jupyter-widgets/base",
            "top": null,
            "grid_column": null,
            "overflow_y": null,
            "overflow_x": null,
            "grid_auto_flow": null,
            "grid_area": null,
            "grid_template_columns": null,
            "flex": null,
            "_model_name": "LayoutModel",
            "justify_items": null,
            "grid_row": null,
            "max_height": null,
            "align_content": null,
            "visibility": null,
            "align_self": null,
            "height": null,
            "min_height": null,
            "padding": null,
            "grid_auto_rows": null,
            "grid_gap": null,
            "max_width": null,
            "order": null,
            "_view_module_version": "1.2.0",
            "grid_template_areas": null,
            "object_position": null,
            "object_fit": null,
            "grid_auto_columns": null,
            "margin": null,
            "display": null,
            "left": null
          }
        }
      }
    }
  },
  "cells": [
    {
      "cell_type": "code",
      "metadata": {
        "id": "1FnT0ZvXqph3",
        "colab_type": "code",
        "outputId": "2b99fa1e-9eb7-4926-9a66-eb8e9158d341",
        "colab": {
          "base_uri": "https://localhost:8080/",
          "height": 295
        }
      },
      "source": [
        "!pip install surprise"
      ],
      "execution_count": 1,
      "outputs": [
        {
          "output_type": "stream",
          "text": [
            "Collecting surprise\n",
            "  Downloading https://files.pythonhosted.org/packages/61/de/e5cba8682201fcf9c3719a6fdda95693468ed061945493dea2dd37c5618b/surprise-0.1-py2.py3-none-any.whl\n",
            "Collecting scikit-surprise\n",
            "\u001b[?25l  Downloading https://files.pythonhosted.org/packages/f5/da/b5700d96495fb4f092be497f02492768a3d96a3f4fa2ae7dea46d4081cfa/scikit-surprise-1.1.0.tar.gz (6.4MB)\n",
            "\u001b[K     |████████████████████████████████| 6.5MB 5.8MB/s \n",
            "\u001b[?25hRequirement already satisfied: joblib>=0.11 in /usr/local/lib/python3.6/dist-packages (from scikit-surprise->surprise) (0.14.1)\n",
            "Requirement already satisfied: numpy>=1.11.2 in /usr/local/lib/python3.6/dist-packages (from scikit-surprise->surprise) (1.18.2)\n",
            "Requirement already satisfied: scipy>=1.0.0 in /usr/local/lib/python3.6/dist-packages (from scikit-surprise->surprise) (1.4.1)\n",
            "Requirement already satisfied: six>=1.10.0 in /usr/local/lib/python3.6/dist-packages (from scikit-surprise->surprise) (1.12.0)\n",
            "Building wheels for collected packages: scikit-surprise\n",
            "  Building wheel for scikit-surprise (setup.py) ... \u001b[?25l\u001b[?25hdone\n",
            "  Created wheel for scikit-surprise: filename=scikit_surprise-1.1.0-cp36-cp36m-linux_x86_64.whl size=1678549 sha256=c61435dcd02c698a9848a6bbdf277025ee5e02506c1e0ffbb80bcab762f7bc2e\n",
            "  Stored in directory: /root/.cache/pip/wheels/cc/fa/8c/16c93fccce688ae1bde7d979ff102f7bee980d9cfeb8641bcf\n",
            "Successfully built scikit-surprise\n",
            "Installing collected packages: scikit-surprise, surprise\n",
            "Successfully installed scikit-surprise-1.1.0 surprise-0.1\n"
          ],
          "name": "stdout"
        }
      ]
    },
    {
      "cell_type": "code",
      "metadata": {
        "id": "WpWWW-Kz-_m8",
        "colab_type": "code",
        "outputId": "185f9d9f-84aa-41d0-c1e3-f1d8fc7ace2e",
        "colab": {
          "base_uri": "https://localhost:8080/",
          "height": 399
        }
      },
      "source": [
        "!wget https://snap.stanford.edu/data/loc-gowalla_edges.txt.gz\n",
        "\n",
        "!wget https://snap.stanford.edu/data/loc-gowalla_totalCheckins.txt.gz\n",
        "\n",
        "!gunzip loc-gowalla_edges.txt.gz\n",
        "!gunzip loc-gowalla_totalCheckins.txt.gz"
      ],
      "execution_count": 2,
      "outputs": [
        {
          "output_type": "stream",
          "text": [
            "--2020-04-11 17:13:01--  https://snap.stanford.edu/data/loc-gowalla_edges.txt.gz\n",
            "Resolving snap.stanford.edu (snap.stanford.edu)... 171.64.75.80\n",
            "Connecting to snap.stanford.edu (snap.stanford.edu)|171.64.75.80|:443... connected.\n",
            "HTTP request sent, awaiting response... 200 OK\n",
            "Length: 6351523 (6.1M) [application/x-gzip]\n",
            "Saving to: ‘loc-gowalla_edges.txt.gz’\n",
            "\n",
            "loc-gowalla_edges.t 100%[===================>]   6.06M  1.86MB/s    in 3.3s    \n",
            "\n",
            "2020-04-11 17:13:05 (1.86 MB/s) - ‘loc-gowalla_edges.txt.gz’ saved [6351523/6351523]\n",
            "\n",
            "--2020-04-11 17:13:06--  https://snap.stanford.edu/data/loc-gowalla_totalCheckins.txt.gz\n",
            "Resolving snap.stanford.edu (snap.stanford.edu)... 171.64.75.80\n",
            "Connecting to snap.stanford.edu (snap.stanford.edu)|171.64.75.80|:443... connected.\n",
            "HTTP request sent, awaiting response... 200 OK\n",
            "Length: 105470044 (101M) [application/x-gzip]\n",
            "Saving to: ‘loc-gowalla_totalCheckins.txt.gz’\n",
            "\n",
            "loc-gowalla_totalCh 100%[===================>] 100.58M  8.23MB/s    in 13s     \n",
            "\n",
            "2020-04-11 17:13:20 (7.71 MB/s) - ‘loc-gowalla_totalCheckins.txt.gz’ saved [105470044/105470044]\n",
            "\n"
          ],
          "name": "stdout"
        }
      ]
    },
    {
      "cell_type": "markdown",
      "metadata": {
        "id": "yHaOvdenpVUU",
        "colab_type": "text"
      },
      "source": [
        "##1.  Introduction\n",
        "The  purpose  of  this  lab  is  to  implement  a  location-based  recommender  system  from  regular location-based social network (LBSN) data. Usually LBSN data give precise information regarding the locations visited by the users. These data also reveal who are the friends of the users. These two  pieces of information  (geographical  +  social)  can  be  exploited  into  a  standard  collaborative-filtering approach. At the end of this lab you should have all the building blocks of the model iGSLR, a geo-social location recommendation model. We suggest you to use the Surprise library as a main framework to implement the model. In this lab the part 2 has to be first. Then parts 3 and 4 can be achieved in parallel. Finally the part 5 combine the results of previous parts."
      ]
    },
    {
      "cell_type": "markdown",
      "metadata": {
        "id": "YPCZehNapaIz",
        "colab_type": "text"
      },
      "source": [
        "## 2.  Processing of the Dataset"
      ]
    },
    {
      "cell_type": "markdown",
      "metadata": {
        "id": "c2E1ezuwpf_f",
        "colab_type": "text"
      },
      "source": [
        "The input dataset for this lab was collected from Gowalla, a popular LBSN that is often used to test recommendation methods with geographical dimensions. In practice, the dataset contains user profiles, user friendship, location profiles, and users’ check-in history made before June 1, 2011. It contains 36,001,959 check-ins made by 407,533 users over 2,724,891 locations. You can download the dataset from here. First of all, you have to extract the dataset and load it into a pandas dataframe. Filter users who have less than 5 check-ins in total. Associate for each user the list of his friends.  Put the result in a new dataframe df_user_friends. In the same way, associate for each user the list of the successive locations he visited. Put the result in a new dataframe df_user_locations.Then you have to compute for each pair(user, location) its corresponding visit frequency in order to build a new df_frequencies dataframe. Finally, transform and update the frequencies from df_frequencies into the range [0,10] with the following normalization transformation:"
      ]
    },
    {
      "cell_type": "markdown",
      "metadata": {
        "id": "z_7fQt-4phIU",
        "colab_type": "text"
      },
      "source": [
        "$$x\\rightarrow 10. \\text{  tanh  } [10.\\frac{x-f_{min}}{f_{max}-f_{min}}]$$"
      ]
    },
    {
      "cell_type": "markdown",
      "metadata": {
        "id": "hpsOVErqqCx2",
        "colab_type": "text"
      },
      "source": [
        "where $f_{min}$  and $f_{max}$ refers  respectively  to  the  minimum  and  maximum  visit  frequencies  of  the dataset. This transformation is necessary in order to take into account of the long tail. You can then load df_frequencies into the Surprise framework with the load_from_df() function. Finally use the train_test_split function to divide df_frequencies into a 75 % train set, and 25 % test set."
      ]
    },
    {
      "cell_type": "markdown",
      "metadata": {
        "id": "m1gqZC6b-zKK",
        "colab_type": "text"
      },
      "source": [
        "In our experiments, the Gowalla datasets evaluate our proposed method . Gowalla was launched in 2007 and closed in 2012, which provides the location and social services that enable users to check in at places and make friends based on where they have visited. The Gowalla dataset (https://snap.stanford.edu/data/loc-gowalla.html) we used was crawled by its API from February 2009 to October 2010. By filtering out those users with fewer than 15 check-in POIs and those POIs with fewer than 10 visitors, we can reach our final dataset, which contains 25,379 users, 32,623 POIs, 1,395,856 check-ins, and 118,717 social ties."
      ]
    },
    {
      "cell_type": "code",
      "metadata": {
        "id": "YyENyFlcqXEC",
        "colab_type": "code",
        "outputId": "0b453617-4c7a-44b5-a2d1-25c5c74e7b36",
        "colab": {
          "base_uri": "https://localhost:8080/",
          "height": 34
        }
      },
      "source": [
        "import os \n",
        "import numpy as np\n",
        "import matplotlib.pyplot as plt\n",
        "import pandas as pd\n",
        "\n",
        "import time\n",
        "import math\n",
        "from collections import defaultdict\n",
        "import scipy.sparse as sparse\n",
        "\n",
        "import numba\n",
        "print(numba.__version__)\n",
        "from numba import njit, jit\n",
        "from numba import jitclass, types, typed\n",
        "from tqdm import tqdm\n",
        "\n",
        "from surprise import NormalPredictor\n",
        "from surprise import Dataset\n",
        "from surprise import Reader\n",
        "from surprise.model_selection import cross_validate\n",
        "from sklearn.model_selection import train_test_split"
      ],
      "execution_count": 3,
      "outputs": [
        {
          "output_type": "stream",
          "text": [
            "0.48.0\n"
          ],
          "name": "stdout"
        }
      ]
    },
    {
      "cell_type": "code",
      "metadata": {
        "id": "MVl-Cstw_Ifp",
        "colab_type": "code",
        "colab": {}
      },
      "source": [
        "# Credits https://github.com/yangji9181/PACE2017/issues/4\n",
        "def filter_data(checkin):\n",
        "    poi_data = {}\n",
        "    usr_data = {}\n",
        "    for i in checkin:\n",
        "        data = i.split('\\t')\n",
        "        uid = int(data[0])\n",
        "        poi = int(data[-1])\n",
        "        if not (poi in poi_data):\n",
        "            poi_data[poi] = set()\n",
        "        if not (uid in usr_data):\n",
        "            usr_data[uid] = set()\n",
        "        poi_data[poi].add(uid)\n",
        "        usr_data[uid].add(poi)\n",
        "    # filter out POIs less than 10 users\n",
        "    poi_data = dict([(x, poi_data[x]) for x in poi_data if len(poi_data[x]) >= 10])\n",
        "    # filter out users less than 15 check-ins\n",
        "    usr_data = dict([(x, usr_data[x]) for x in usr_data if len(usr_data[x]) >= 15])\n",
        "    new_checkin = []\n",
        "    for i in checkin:\n",
        "        data = i.split('\\t')\n",
        "        if int(data[0]) in usr_data and int(data[-1]) in poi_data:\n",
        "            new_checkin.append(i)\n",
        "    return new_checkin, poi_data, usr_data\n",
        "\n",
        "\n"
      ],
      "execution_count": 0,
      "outputs": []
    },
    {
      "cell_type": "code",
      "metadata": {
        "id": "0yBrnn3V_MAv",
        "colab_type": "code",
        "outputId": "3a071214-a5b5-42df-c4e9-4ffeffcc09f0",
        "colab": {
          "base_uri": "https://localhost:8080/",
          "height": 34
        }
      },
      "source": [
        "checkin_file_path = 'loc-gowalla_totalCheckins.txt'\n",
        "edge_file_path = 'loc-gowalla_edges.txt'\n",
        "with open(checkin_file_path, 'r') as f:\n",
        "        checkin = f.readlines()\n",
        "checkin_len = len(checkin)\n",
        "print('Loaded %d check-ins' % checkin_len)"
      ],
      "execution_count": 5,
      "outputs": [
        {
          "output_type": "stream",
          "text": [
            "Loaded 6442892 check-ins\n"
          ],
          "name": "stdout"
        }
      ]
    },
    {
      "cell_type": "code",
      "metadata": {
        "id": "XVCIbISm_N9d",
        "colab_type": "code",
        "outputId": "c1654258-9fc7-4f03-83fc-01666dad420d",
        "colab": {
          "base_uri": "https://localhost:8080/",
          "height": 434
        }
      },
      "source": [
        "print('STEP 1: Filtering check-ins')\n",
        "itr = 1\n",
        "while True:\n",
        "        new_checkin, poi_data, usr_data = filter_data(checkin)\n",
        "        new_checkin_len = len(new_checkin)\n",
        "        print('Iteration %d: %d -> %d check-ins' % (itr, checkin_len, new_checkin_len))\n",
        "        itr += 1\n",
        "        checkin = new_checkin\n",
        "        if new_checkin_len == checkin_len:\n",
        "            break\n",
        "        checkin_len = new_checkin_len\n",
        "print(\"#User: %d, #POI: %d\" % (len(usr_data), len(poi_data)))"
      ],
      "execution_count": 6,
      "outputs": [
        {
          "output_type": "stream",
          "text": [
            "STEP 1: Filtering check-ins\n",
            "Iteration 1: 6442892 -> 2017717 check-ins\n",
            "Iteration 2: 2017717 -> 1640213 check-ins\n",
            "Iteration 3: 1640213 -> 1450654 check-ins\n",
            "Iteration 4: 1450654 -> 1382891 check-ins\n",
            "Iteration 5: 1382891 -> 1339690 check-ins\n",
            "Iteration 6: 1339690 -> 1317671 check-ins\n",
            "Iteration 7: 1317671 -> 1303115 check-ins\n",
            "Iteration 8: 1303115 -> 1294859 check-ins\n",
            "Iteration 9: 1294859 -> 1289178 check-ins\n",
            "Iteration 10: 1289178 -> 1286049 check-ins\n",
            "Iteration 11: 1286049 -> 1283417 check-ins\n",
            "Iteration 12: 1283417 -> 1281840 check-ins\n",
            "Iteration 13: 1281840 -> 1280413 check-ins\n",
            "Iteration 14: 1280413 -> 1279723 check-ins\n",
            "Iteration 15: 1279723 -> 1279019 check-ins\n",
            "Iteration 16: 1279019 -> 1278754 check-ins\n",
            "Iteration 17: 1278754 -> 1278530 check-ins\n",
            "Iteration 18: 1278530 -> 1278448 check-ins\n",
            "Iteration 19: 1278448 -> 1278378 check-ins\n",
            "Iteration 20: 1278378 -> 1278315 check-ins\n",
            "Iteration 21: 1278315 -> 1278274 check-ins\n",
            "Iteration 22: 1278274 -> 1278274 check-ins\n",
            "#User: 18737, #POI: 32510\n"
          ],
          "name": "stdout"
        }
      ]
    },
    {
      "cell_type": "code",
      "metadata": {
        "id": "kTwrMkU3DWrh",
        "colab_type": "code",
        "colab": {}
      },
      "source": [
        "user_id={}\n",
        "loc_id={}\n",
        "idx=0\n",
        "idx2=0"
      ],
      "execution_count": 0,
      "outputs": []
    },
    {
      "cell_type": "code",
      "metadata": {
        "id": "3RiZe95P_lXP",
        "colab_type": "code",
        "colab": {}
      },
      "source": [
        "with open('visited_spots.txt', 'w') as f:\n",
        "      for uid_ in usr_data:\n",
        "          \n",
        "           if int(uid_)  in user_id.keys():\n",
        "             uid=user_id[int(uid_)]\n",
        "           else:\n",
        "             user_id[int(uid_)]=int(idx)\n",
        "             idx+=1\n",
        "             uid=user_id[int(uid_)]\n",
        "\n",
        "           for lid_ in list(usr_data[uid_]):\n",
        "             if int(lid_)  in loc_id.keys():\n",
        "               lid=loc_id[int(lid_)]\n",
        "             else:\n",
        "               loc_id[int(lid_)]=int(idx2)\n",
        "               idx2+=1\n",
        "               lid=loc_id[int(lid_)]\n",
        "\n",
        "             f.write('%d %s\\n' % (uid, str(lid)))"
      ],
      "execution_count": 0,
      "outputs": []
    },
    {
      "cell_type": "code",
      "metadata": {
        "id": "NUiiDin1_9De",
        "colab_type": "code",
        "outputId": "e3fbff13-0f38-4567-b165-0a58a8be557b",
        "colab": {
          "base_uri": "https://localhost:8080/",
          "height": 34
        }
      },
      "source": [
        "print('STEP 3: Generating user_network.txt')\n",
        "with open(edge_file_path, 'r') as f:\n",
        "        edges = f.readlines()\n",
        "usr_graph = {}\n",
        "for l in edges:\n",
        "        data = l.split('\\t')\n",
        "        usr_a = int(data[0])\n",
        "        usr_b = int(data[1])\n",
        "        if not (usr_a in usr_graph):\n",
        "            usr_graph[usr_a] = set()\n",
        "        if not (usr_b in usr_graph):\n",
        "            usr_graph[usr_b] = set()\n",
        "        usr_graph[usr_a].add(usr_b)\n",
        "        usr_graph[usr_b].add(usr_a)\n",
        "with open('user_network.txt', 'w') as f:\n",
        "        for uid_ in usr_graph:\n",
        "           if int(uid_)  in user_id.keys():\n",
        "             uid=user_id[int(uid_)]\n",
        "             for vid_ in list(usr_graph[uid_]):\n",
        "              if int(vid_)  in user_id.keys():\n",
        "                vid=user_id[int(vid_)]\n",
        "                f.write('%d %s\\n' % (uid, str(vid)))\n"
      ],
      "execution_count": 9,
      "outputs": [
        {
          "output_type": "stream",
          "text": [
            "STEP 3: Generating user_network.txt\n"
          ],
          "name": "stdout"
        }
      ]
    },
    {
      "cell_type": "code",
      "metadata": {
        "id": "unf3f-S_ALVS",
        "colab_type": "code",
        "outputId": "bef7b49f-aedb-427d-e382-3c1a2779a401",
        "colab": {
          "base_uri": "https://localhost:8080/",
          "height": 34
        }
      },
      "source": [
        "print('STEP 4: Generating spot_location.txt')\n",
        "poi_loc = {}\n",
        "for l in checkin:\n",
        "        data = l.split('\\t')\n",
        "        poi = int(data[-1])\n",
        "        if poi in poi_data and not (poi in poi_loc):\n",
        "            lat = float(data[2])\n",
        "            lon = float(data[3])\n",
        "            poi_loc[poi] = (lat, lon)\n",
        "with open('spot_location.txt', 'w') as f:\n",
        "        for poi_ in poi_loc:\n",
        "          if int(poi_) in loc_id.keys():\n",
        "            poi=loc_id[int(poi_)]\n",
        "            f.write('%d %f %f\\n' % (poi, poi_loc[poi_][0], poi_loc[poi_][1]))"
      ],
      "execution_count": 10,
      "outputs": [
        {
          "output_type": "stream",
          "text": [
            "STEP 4: Generating spot_location.txt\n"
          ],
          "name": "stdout"
        }
      ]
    },
    {
      "cell_type": "code",
      "metadata": {
        "id": "9mLL7YYqANkx",
        "colab_type": "code",
        "colab": {}
      },
      "source": [
        "checkins = pd.read_csv('visited_spots.txt', sep=\" \", header=None)\n",
        "checkins.columns = [\"userid\", \"placeid\"]"
      ],
      "execution_count": 0,
      "outputs": []
    },
    {
      "cell_type": "code",
      "metadata": {
        "id": "02XlwMptANt2",
        "colab_type": "code",
        "colab": {}
      },
      "source": [
        "friendship = pd.read_csv('user_network.txt', sep=\" \", header=None)\n",
        "friendship.columns = [\"userid1\", \"userid2\"]"
      ],
      "execution_count": 0,
      "outputs": []
    },
    {
      "cell_type": "code",
      "metadata": {
        "id": "diBnrS3IANsO",
        "colab_type": "code",
        "colab": {}
      },
      "source": [
        "locations = pd.read_csv('spot_location.txt', sep=\" \", header=None)\n",
        "locations.columns = [\"lid\", \"lat\", \"lng\"]"
      ],
      "execution_count": 0,
      "outputs": []
    },
    {
      "cell_type": "code",
      "metadata": {
        "id": "Ncfdy7mzBhe0",
        "colab_type": "code",
        "colab": {}
      },
      "source": [
        "df_frequencies=checkins.groupby([\"userid\", \"placeid\"]).size().reset_index(name=\"frequencie\")"
      ],
      "execution_count": 0,
      "outputs": []
    },
    {
      "cell_type": "code",
      "metadata": {
        "id": "F7Y5rjSmBkdB",
        "colab_type": "code",
        "colab": {}
      },
      "source": [
        "x=df_frequencies[\"frequencie\"]\n",
        "f_min=np.min(df_frequencies[\"frequencie\"])\n",
        "f_max=np.max(df_frequencies[\"frequencie\"])"
      ],
      "execution_count": 0,
      "outputs": []
    },
    {
      "cell_type": "code",
      "metadata": {
        "id": "97puV__aBl0i",
        "colab_type": "code",
        "colab": {}
      },
      "source": [
        "df_frequencies[\"frequencie\"]=10*np.tanh(10*(x-f_min)/(f_max-f_min) )"
      ],
      "execution_count": 0,
      "outputs": []
    },
    {
      "cell_type": "code",
      "metadata": {
        "id": "9A-vSrruBWr0",
        "colab_type": "code",
        "colab": {}
      },
      "source": [
        "df_frequencies, truth_data = train_test_split(df_frequencies, test_size=.25)"
      ],
      "execution_count": 0,
      "outputs": []
    },
    {
      "cell_type": "code",
      "metadata": {
        "id": "1_w2ttm6CI7D",
        "colab_type": "code",
        "colab": {}
      },
      "source": [
        "user_num, poi_num = 18737,32510\n"
      ],
      "execution_count": 0,
      "outputs": []
    },
    {
      "cell_type": "markdown",
      "metadata": {
        "id": "CASap9mQ0dKk",
        "colab_type": "text"
      },
      "source": [
        "## 3. Geographical Computations"
      ]
    },
    {
      "cell_type": "markdown",
      "metadata": {
        "id": "twvVXNsa0pJ6",
        "colab_type": "text"
      },
      "source": [
        "From df_user_locations you have access for every given user  u to the list $L_u$ of all locations he has been located to. Use this list to compute for each user the distances $d_{i,j}$ between each pair of locations of the list:$\\forall l_i,l_j \\in L_u ,d_{i,j}=\\text{distance}(l_i,l_j)$. You will obtain a list D of distances. This list of distances can be used to \n",
        "compute the density $\\hat{f}_u$ of any new given distance as follows:\n",
        "$$\\hat{f}_u(d_{ij})=\\frac{1}{\\left | D \\right |}\\sum_{{d}' \\in D }K(\\frac{d_{ij}-{d}'}{h})$$\n",
        "\n",
        "where K(·) is the normal kernel function with fixed bandwidth.\n",
        "$$K(x)=\\frac{1}{\\sqrt{2 \\pi}}e^{\\frac{-x^{2}}{2}}$$\n",
        "with $h=1,06 \\hat{\\sigma}n^{\\frac{-1}{5}}$ (n is  the  number  of  locations  in $L_u$, $\\hat{\\sigma}$ is  the  standard  deviation  of D).\n",
        "\n",
        "The density  $\\hat{f}_u$  will be used to estimate the likelihood that a new unvisited location $l_i$ matches the  user  geographical  preferences  based  on  his  previously  visited  locations.  This  is  achieved  by computing the distances between $l_i$ and every locations of $L_u=\\{l_1,...,l_n\\}$, and then estimating the likelihood of each distance given the distribution of the user. Finally we can take the empirical mean probability $p(l_i|L_u)$ of any new location for any given user:\n",
        "$$p(l_i|L_u)=\\frac{1}{n}\\sum^{n}_{j=1}\\hat{f}_u (d_{ij}) $$\n",
        "\n",
        "This  probability  encodes  the  geographical  likelihood  that  user u will  visit  location $l_i$.  You  can first implement Equation 2 into a function density(). Then you can put Equation 3 into another function geo_proba() that will take a user’s list of visited locations and a new location as input,and return the probability of this new location as output."
      ]
    },
    {
      "cell_type": "code",
      "metadata": {
        "id": "eYfnXqV7Lc1E",
        "colab_type": "code",
        "colab": {}
      },
      "source": [
        "def dist(loc1, loc2):\n",
        "    lat1, long1 = loc1[0], loc1[1]\n",
        "    lat2, long2 = loc2[0], loc2[1]\n",
        "    if abs(lat1 - lat2) < 1e-6 and abs(long1 - long2) < 1e-6:\n",
        "        return 0.0\n",
        "    degrees_to_radians = math.pi/180.0\n",
        "    phi1 = (90.0 - lat1)*degrees_to_radians\n",
        "    phi2 = (90.0 - lat2)*degrees_to_radians\n",
        "    theta1 = long1*degrees_to_radians\n",
        "    theta2 = long2*degrees_to_radians\n",
        "    cos = (math.sin(phi1)*math.sin(phi2)*math.cos(theta1 - theta2) +\n",
        "           math.cos(phi1)*math.cos(phi2))\n",
        "    arc = math.acos( cos )\n",
        "    earth_radius = 6371\n",
        "    return arc * earth_radius"
      ],
      "execution_count": 0,
      "outputs": []
    },
    {
      "cell_type": "code",
      "metadata": {
        "id": "2ltPTWgOLdZu",
        "colab_type": "code",
        "colab": {}
      },
      "source": [
        "loc_coord={}\n",
        "for row in locations.values:\n",
        "        lid,lat, lng = row[0:3]\n",
        "        lid, lat, lng = int(lid), float(lat), float(lng)\n",
        "        loc_coord[lid] = (lat, lng)"
      ],
      "execution_count": 0,
      "outputs": []
    },
    {
      "cell_type": "code",
      "metadata": {
        "id": "2i-R_zwxLuMr",
        "colab_type": "code",
        "outputId": "e0d7616e-d066-4ef9-988c-43feda16bfdb",
        "colab": {
          "base_uri": "https://localhost:8080/",
          "height": 52
        }
      },
      "source": [
        "ctime = time.time()\n",
        "print(\"Precomputing Sparse Training Matrix ...\", )\n",
        "ratings_matrix = sparse.dok_matrix((user_num+1, poi_num+1))\n",
        "for row in df_frequencies.values:\n",
        "            uid, lid, freq = row\n",
        "            uid, lid, freq = int(uid), int(lid), float(freq)\n",
        "            ratings_matrix[uid, lid] = freq    \n",
        "            \n",
        "print(\"Done. Elapsed time:\", time.time() - ctime, \"s\")"
      ],
      "execution_count": 21,
      "outputs": [
        {
          "output_type": "stream",
          "text": [
            "Precomputing Sparse Training Matrix ...\n",
            "Done. Elapsed time: 11.001446962356567 s\n"
          ],
          "name": "stdout"
        }
      ]
    },
    {
      "cell_type": "code",
      "metadata": {
        "id": "EkFnt8jeMXfm",
        "colab_type": "code",
        "outputId": "dfc85599-a89b-442c-e0cb-008895072b5c",
        "colab": {
          "base_uri": "https://localhost:8080/",
          "height": 66,
          "referenced_widgets": [
            "3630cd8186124839b3a078c7459f3647",
            "4f6268c7f7094ae48e7f44991223a06f",
            "0ab36a1479a04ca8a22abdb5965e5272",
            "4c5a1410cd4f439b9b518eb9c5023ec7",
            "36d8597d6cd042418f9948131cc2200f",
            "71a1f0a300fd4a878a055cc51c661b93",
            "381e0d496c0b4162a765fd7fad6291d5",
            "b5ebed23dda541e58d497c416f418c1b"
          ]
        }
      },
      "source": [
        "from tqdm.notebook import tqdm\n",
        "L = defaultdict(list)\n",
        "for uid in tqdm(range(ratings_matrix.shape[0])):\n",
        "        L[uid] = [loc_coord[lid]  for lid in ratings_matrix[uid].nonzero()[1].tolist()]"
      ],
      "execution_count": 22,
      "outputs": [
        {
          "output_type": "display_data",
          "data": {
            "application/vnd.jupyter.widget-view+json": {
              "model_id": "3630cd8186124839b3a078c7459f3647",
              "version_minor": 0,
              "version_major": 2
            },
            "text/plain": [
              "HBox(children=(IntProgress(value=0, max=18738), HTML(value='')))"
            ]
          },
          "metadata": {
            "tags": []
          }
        },
        {
          "output_type": "stream",
          "text": [
            "\n"
          ],
          "name": "stdout"
        }
      ]
    },
    {
      "cell_type": "code",
      "metadata": {
        "id": "VDlVagYaMfuB",
        "colab_type": "code",
        "outputId": "ecafa262-999e-4a76-b9a5-655e24e5b381",
        "colab": {
          "base_uri": "https://localhost:8080/",
          "height": 66,
          "referenced_widgets": [
            "53812f8ada7e41ccb75f2dc3d55e9dde",
            "85c066a44495404fb122ca269160c7e2",
            "9a624fda67724920b4cbc91ba1210cd9",
            "9ce791769b4249b483f7fcd17034ffa7",
            "7e14bfe366484c82801cec0aa44c7d15",
            "12b29d68d1754b3a924fedfdc92bfcf0",
            "1dc8f2bc895645e2903abdc275b77228",
            "4367ed6b2e0446a5babab5f839dac730"
          ]
        }
      },
      "source": [
        "d = defaultdict(list)\n",
        "for i in tqdm(range(len(L))) :\n",
        "    u=list(L.keys())[i]\n",
        "    if len(L[u]) > 1:\n",
        "        for i in range(len(L[u])):\n",
        "            for j in range(i+1, len(L[u])):\n",
        "                d[u].append(dist(L[u][i], L[u][j]))\n"
      ],
      "execution_count": 23,
      "outputs": [
        {
          "output_type": "display_data",
          "data": {
            "application/vnd.jupyter.widget-view+json": {
              "model_id": "53812f8ada7e41ccb75f2dc3d55e9dde",
              "version_minor": 0,
              "version_major": 2
            },
            "text/plain": [
              "HBox(children=(IntProgress(value=0, max=18738), HTML(value='')))"
            ]
          },
          "metadata": {
            "tags": []
          }
        },
        {
          "output_type": "stream",
          "text": [
            "\n"
          ],
          "name": "stdout"
        }
      ]
    },
    {
      "cell_type": "code",
      "metadata": {
        "id": "x86VCnIXMlvC",
        "colab_type": "code",
        "colab": {}
      },
      "source": [
        "h = {}\n",
        "for u in d:\n",
        "    if not d[u]:\n",
        "        h[u] = 1.06 * np.std(d[u]) * (1.0 / len(d[u])**0.2)\n",
        "       "
      ],
      "execution_count": 0,
      "outputs": []
    },
    {
      "cell_type": "code",
      "metadata": {
        "id": "qPBqVQTyMm_Z",
        "colab_type": "code",
        "colab": {}
      },
      "source": [
        "def K(x):\n",
        "        return 1.0 / np.sqrt(2 * math.pi) * np.exp(-(x**2)/2)\n",
        "\n",
        "def f(dij, u):\n",
        "        return 1.0 * np.sum([K((dij - d) /h[u]) for d in d[u]]) / len(d[u]) / h[u]\n",
        "\n",
        "def KernelDensityEstimation(u, lj):\n",
        "        if u in h and not h[u] == 0:\n",
        "            lat_j, lng_j = loc_coord[lj]\n",
        "            return np.sum([f(dist((lat_i, lng_i), (lat_j, lng_j)), u) for lat_i, lng_i in L[u] ])  / len(L[u])\n",
        "        return 1.0\n"
      ],
      "execution_count": 0,
      "outputs": []
    },
    {
      "cell_type": "markdown",
      "metadata": {
        "id": "P5IPrylw9UP1",
        "colab_type": "text"
      },
      "source": [
        "## 4.  Social computations"
      ]
    },
    {
      "cell_type": "markdown",
      "metadata": {
        "id": "oM7PnSQh9YiL",
        "colab_type": "text"
      },
      "source": [
        "Every user $u_i$ is associated with his set $F(u_i)$ of friends. From df_user_friends you can get the set $F(u_i)$. For every pair of users $(u_i,u_k)$, we can compute their social similarity score with the Jaccard coefficient as follows:\n",
        "\n",
        "$$\\text{Sim}(u_i,u_k)=\\frac{\\left |F(u_i) \\cap F(u_k)  \\right |}{\\left | F(u_i) \\cup  F(u_k)   \\right |}$$\n",
        "\n",
        "Implement this coefficient into a function of two arguments social_similarity(). Then this score can be exploited into the standard collaborative filtering model:\n",
        "$$\\hat{r}_{ij}=\\frac{\\sum _{u_k \\in F(u_i) r_{k,j} \\text{Sim}(u_i,u_k)}}{\\sum _{u_k \\in F(u_i)  \\text{Sim}(u_i,u_k)}}$$\n",
        "\n",
        "Finally we cant to transform the prediction  $\\hat{r}_{ij}$ into a probability as follows:\n",
        "$$\\hat{p}_{ij}=\\frac{\\hat{r}_{ij}}{max_{l_j \\in L \\setminus  L_j} {\\hat{r}_{ij}}}$$\n"
      ]
    },
    {
      "cell_type": "code",
      "metadata": {
        "id": "Ze1bEe4P_DTi",
        "colab_type": "code",
        "colab": {}
      },
      "source": [
        "def Sim(u_i,u_k):\n",
        "      Fu_i=friendship[friendship.userid1==u_i].values[:,1]\n",
        "      Fu_k=friendship[friendship.userid1==u_k].values[:,1]\n",
        "      intersection = len(list(set(Fu_i).intersection(Fu_k)))\n",
        "      union = (len(Fu_i) + len(Fu_k)) - intersection\n",
        "      return float(intersection) / union    "
      ],
      "execution_count": 0,
      "outputs": []
    },
    {
      "cell_type": "code",
      "metadata": {
        "id": "Uc0YbXzhMqU0",
        "colab_type": "code",
        "outputId": "cac2baf3-43aa-47e4-a07d-1adb731fc56e",
        "colab": {
          "base_uri": "https://localhost:8080/",
          "height": 66,
          "referenced_widgets": [
            "8b92f1a0ef864c90bb1be53effae4f05",
            "66f67e3368394806ae9548eedc421e16",
            "c8a07945c11a4035aac88fbe0c9efde0",
            "a7813783e6bc467399418827e3d51ab6",
            "a7db91756ade44ea9226fa5110eb1034",
            "10843cf61efe4ccfa813088d502c0058",
            "431745b2dd584a7c9eae4071bdd1f563",
            "5a8be2adf9754d448991f784e74cf5c3"
          ]
        }
      },
      "source": [
        "social_proximity=defaultdict(list)\n",
        "\n",
        "for i  in tqdm(range(len(friendship.values))):\n",
        "            uid1, uid2=friendship.values[i]\n",
        "            social_proximity[uid1].append([uid2, Sim(uid1, uid2)])\n",
        "            social_proximity[uid2].append([uid1, Sim(uid1, uid2)])\n",
        "      "
      ],
      "execution_count": 27,
      "outputs": [
        {
          "output_type": "display_data",
          "data": {
            "application/vnd.jupyter.widget-view+json": {
              "model_id": "8b92f1a0ef864c90bb1be53effae4f05",
              "version_minor": 0,
              "version_major": 2
            },
            "text/plain": [
              "HBox(children=(IntProgress(value=0, max=173970), HTML(value='')))"
            ]
          },
          "metadata": {
            "tags": []
          }
        },
        {
          "output_type": "stream",
          "text": [
            "\n"
          ],
          "name": "stdout"
        }
      ]
    },
    {
      "cell_type": "code",
      "metadata": {
        "id": "Xaye81TFMrhd",
        "colab_type": "code",
        "colab": {}
      },
      "source": [
        "def FriendBasedCF(i, j):\n",
        "        if i in social_proximity:\n",
        "            numerator = np.sum([weight * ratings_matrix[k, j] for k, weight in social_proximity[i]])\n",
        "            denominator = np.sum([weight for k, weight in social_proximity[i]])\n",
        "            return numerator / denominator\n",
        "        return 0.0"
      ],
      "execution_count": 0,
      "outputs": []
    },
    {
      "cell_type": "markdown",
      "metadata": {
        "id": "ll72LMoxAnsr",
        "colab_type": "text"
      },
      "source": [
        "## 5.  Generate & Test Recommendations\n",
        "The goal is to generate a recommendation score $\\hat{s}_{ij}$ for a given user i and a given location j. This recommendation score can be computed with equations 3 and 5 as follows :\n",
        "$$\\hat{s}_{ij}=\\frac{\\hat{p}_{ij}+p(l_i \\mid L_u)}{2}$$\n",
        "\n",
        "Generate recommendations for each user in the test set and get the precision@K and recall@K for K∈ $\\{5,10,15 \\}$. To implement Equation 6 you have to create a new prediction algorithm as youcan see here. You have to create aGSLRclass (i.e.Geographical Social Location Recommendation)and populate afit()and aestimate()functions. These functions will of course depend on thefunctions you have implemented in parts 3 and 4. To compute the recall and precision, you canreproduce this part of the documentation. You can also use cross validation as shown here."
      ]
    },
    {
      "cell_type": "code",
      "metadata": {
        "id": "pWGofVzNe05-",
        "colab_type": "code",
        "colab": {}
      },
      "source": [
        "def precisionk(actual, predicted):\n",
        "    return 1.0 * len(set(actual) & set(predicted)) / len(predicted)\n",
        "\n",
        "\n",
        "def recallk(actual, predicted):\n",
        "    return 1.0 * len(set(actual) & set(predicted)) / len(actual)"
      ],
      "execution_count": 0,
      "outputs": []
    },
    {
      "cell_type": "code",
      "metadata": {
        "id": "h5b0Ee85nF0i",
        "colab_type": "code",
        "colab": {}
      },
      "source": [
        "ground_truth = defaultdict(set)\n",
        "for row in truth_data.values:\n",
        "        uid, lid, _ = row\n",
        "        uid, lid = int(uid), int(lid)\n",
        "        ground_truth[uid].add(lid)"
      ],
      "execution_count": 0,
      "outputs": []
    },
    {
      "cell_type": "code",
      "metadata": {
        "id": "SosA8x5mMx8Y",
        "colab_type": "code",
        "colab": {}
      },
      "source": [
        "training_tuples=set([(int(uid), int(lid)) for uid, lid in df_frequencies.values[:,0:2]])"
      ],
      "execution_count": 0,
      "outputs": []
    },
    {
      "cell_type": "code",
      "metadata": {
        "id": "l7ReAPBXocKd",
        "colab_type": "code",
        "colab": {}
      },
      "source": [
        "from tqdm.notebook import tqdm\n",
        "\n",
        "all_uids = list(range(user_num))\n",
        "all_lids = list(range(poi_num))\n",
        "np.random.shuffle(all_uids)\n",
        "\n",
        "\n",
        "precision_k5, recall_k5 = [], []\n",
        "precision_k10, recall_k10 = [], []\n",
        "precision_k15, recall_k15 = [], []\n",
        "\n",
        "for i in tqdm(range(len(all_uids))):\n",
        "        uid=all_uids[i]\n",
        "        if uid in ground_truth:\n",
        "            overall_scores = [FriendBasedCF(uid, lid) * KernelDensityEstimation(uid, lid)\n",
        "                              if (uid, lid) not in training_tuples else -1\n",
        "                              for lid in all_lids]\n",
        "               \n",
        "            overall_scores = np.array(overall_scores)\n",
        "\n",
        "            predicted_k5 = list(reversed(overall_scores.argsort()))[:5]\n",
        "            predicted_k10 = list(reversed(overall_scores.argsort()))[:10]\n",
        "            predicted_k15 = list(reversed(overall_scores.argsort()))[:15]\n",
        "            actual = ground_truth[uid]\n",
        "\n",
        "            precision_k5.append(precisionk(actual, predicted_k5[:5]))\n",
        "            recall_k5.append(recallk(actual, predicted_k5[:5]))\n",
        "\n",
        "            precision_k10.append(precisionk(actual, predicted_k10[:10]))\n",
        "            recall_k10.append(recallk(actual, predicted_k10[:10]))\n",
        "\n",
        "            precision_k15.append(precisionk(actual, predicted_k15[:15]))\n",
        "            recall_k15.append(recallk(actual, predicted_k15[:15]))\n",
        "\n",
        "            \n",
        "            "
      ],
      "execution_count": 0,
      "outputs": []
    }
  ]
}